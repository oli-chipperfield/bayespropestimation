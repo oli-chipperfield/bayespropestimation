{
 "cells": [
  {
   "cell_type": "markdown",
   "metadata": {},
   "source": [
    "## bayespropestimation usage guide\n",
    "\n",
    "The BayesProportionsEstimation class and its methods use a series of defaults which means that user need not provide any information other than the data for samples A and B.  This notebook covers usage where a user may want to use non-default parameters.\n",
    "\n",
    "#### Sections\n",
    "\n",
    "##### Class BayesProportionsEstimation\n",
    "- Alternative beta priors\n",
    "- Define the number of simulations\n",
    "- Set the random seed\n",
    "\n",
    "##### Method quantile_summary\n",
    "- Include the mean estimate or not\n",
    "- Set quantiles to report\n",
    "- Name the parameters\n",
    "\n",
    "##### Method hdi_summary\n",
    "- Include mean estimate or note\n",
    "- Set a non-default HDI interval\n",
    "- Name the parameters\n",
    "\n",
    "##### Method infer_delta_probability\n",
    "- Change the direction of the hypothesis\n",
    "- Add an additional constant to the hypothesis e.g. P(A > (B + constant))\n",
    "- Change the default print_inference\n",
    "- Name the parameters\n",
    "\n",
    "##### Method infer_delta_bayes_factor\n",
    "- Change the direction of the hypothesis\n",
    "- Add an additional constant to the hypothesis e.g. P(A > (B + constant))\n",
    "- Change the default print_inference\n",
    "- Name the parameters\n",
    "\n",
    "##### Method posterior_plot\n",
    "- Define the estimation method\n",
    "- Define the vertical line on the delta plot\n",
    "- Use a non-default colour on the plots\n",
    "- Use non-default intervals for the plot\n",
    "- Name the parameters\n",
    "- Explicitly define the fig size\n"
   ]
  },
  {
   "cell_type": "code",
   "execution_count": 1,
   "metadata": {},
   "outputs": [],
   "source": [
    "from bayespropestimation.bayespropestimation import BayesProportionsEstimation"
   ]
  },
  {
   "cell_type": "code",
   "execution_count": 2,
   "metadata": {},
   "outputs": [],
   "source": [
    "a = [20, 40]\n",
    "b = [30, 50]"
   ]
  },
  {
   "cell_type": "markdown",
   "metadata": {},
   "source": [
    "##### Class BayesProportionsEstimation\n",
    "- Alternative beta priors"
   ]
  },
  {
   "cell_type": "code",
   "execution_count": 3,
   "metadata": {},
   "outputs": [
    {
     "name": "stdout",
     "output_type": "stream",
     "text": [
      "0.1\n",
      "0.9\n"
     ]
    }
   ],
   "source": [
    "ExampleBayes = BayesProportionsEstimation(a, b, prior_alpha=0.1, prior_beta=0.9)\n",
    "print(ExampleBayes.prior_alpha)\n",
    "print(ExampleBayes.prior_beta)"
   ]
  },
  {
   "cell_type": "markdown",
   "metadata": {},
   "source": [
    "- Define the number of simulations"
   ]
  },
  {
   "cell_type": "code",
   "execution_count": 4,
   "metadata": {},
   "outputs": [
    {
     "name": "stdout",
     "output_type": "stream",
     "text": [
      "100\n",
      "100\n",
      "100\n"
     ]
    }
   ],
   "source": [
    "ExampleBayes = BayesProportionsEstimation(a, b, n=100)\n",
    "draws = ExampleBayes.get_posteriors()\n",
    "for i in draws:\n",
    "    print(len(i))"
   ]
  },
  {
   "cell_type": "markdown",
   "metadata": {},
   "source": [
    "- Set the random seed"
   ]
  },
  {
   "cell_type": "code",
   "execution_count": 5,
   "metadata": {},
   "outputs": [
    {
     "name": "stdout",
     "output_type": "stream",
     "text": [
      "1000\n"
     ]
    }
   ],
   "source": [
    "ExampleBayes = BayesProportionsEstimation(a, b, seed=1000)\n",
    "print(ExampleBayes.seed)"
   ]
  },
  {
   "cell_type": "markdown",
   "metadata": {},
   "source": [
    "##### Method quantile_summary\n",
    "- Include the mean estimate or not"
   ]
  },
  {
   "cell_type": "code",
   "execution_count": 6,
   "metadata": {},
   "outputs": [
    {
     "data": {
      "text/html": [
       "<div>\n",
       "<style scoped>\n",
       "    .dataframe tbody tr th:only-of-type {\n",
       "        vertical-align: middle;\n",
       "    }\n",
       "\n",
       "    .dataframe tbody tr th {\n",
       "        vertical-align: top;\n",
       "    }\n",
       "\n",
       "    .dataframe thead th {\n",
       "        text-align: right;\n",
       "    }\n",
       "</style>\n",
       "<table border=\"1\" class=\"dataframe\">\n",
       "  <thead>\n",
       "    <tr style=\"text-align: right;\">\n",
       "      <th></th>\n",
       "      <th>0.025</th>\n",
       "      <th>0.5</th>\n",
       "      <th>0.975</th>\n",
       "      <th>parameter</th>\n",
       "    </tr>\n",
       "  </thead>\n",
       "  <tbody>\n",
       "    <tr>\n",
       "      <td>0</td>\n",
       "      <td>0.349738</td>\n",
       "      <td>0.500043</td>\n",
       "      <td>0.652849</td>\n",
       "      <td>theta_a</td>\n",
       "    </tr>\n",
       "    <tr>\n",
       "      <td>1</td>\n",
       "      <td>0.462082</td>\n",
       "      <td>0.599362</td>\n",
       "      <td>0.729180</td>\n",
       "      <td>theta_b</td>\n",
       "    </tr>\n",
       "    <tr>\n",
       "      <td>2</td>\n",
       "      <td>-0.109870</td>\n",
       "      <td>0.098542</td>\n",
       "      <td>0.298793</td>\n",
       "      <td>delta</td>\n",
       "    </tr>\n",
       "  </tbody>\n",
       "</table>\n",
       "</div>"
      ],
      "text/plain": [
       "      0.025       0.5     0.975 parameter\n",
       "0  0.349738  0.500043  0.652849   theta_a\n",
       "1  0.462082  0.599362  0.729180   theta_b\n",
       "2 -0.109870  0.098542  0.298793     delta"
      ]
     },
     "execution_count": 6,
     "metadata": {},
     "output_type": "execute_result"
    }
   ],
   "source": [
    "ExampleBayes = BayesProportionsEstimation(a, b)\n",
    "ExampleBayes.quantile_summary(mean=False)"
   ]
  },
  {
   "cell_type": "markdown",
   "metadata": {},
   "source": [
    "- Set quantiles to report"
   ]
  },
  {
   "cell_type": "code",
   "execution_count": 7,
   "metadata": {},
   "outputs": [
    {
     "data": {
      "text/html": [
       "<div>\n",
       "<style scoped>\n",
       "    .dataframe tbody tr th:only-of-type {\n",
       "        vertical-align: middle;\n",
       "    }\n",
       "\n",
       "    .dataframe tbody tr th {\n",
       "        vertical-align: top;\n",
       "    }\n",
       "\n",
       "    .dataframe thead th {\n",
       "        text-align: right;\n",
       "    }\n",
       "</style>\n",
       "<table border=\"1\" class=\"dataframe\">\n",
       "  <thead>\n",
       "    <tr style=\"text-align: right;\">\n",
       "      <th></th>\n",
       "      <th>0.01</th>\n",
       "      <th>0.025</th>\n",
       "      <th>0.05</th>\n",
       "      <th>0.95</th>\n",
       "      <th>0.975</th>\n",
       "      <th>0.99</th>\n",
       "      <th>mean</th>\n",
       "      <th>parameter</th>\n",
       "    </tr>\n",
       "  </thead>\n",
       "  <tbody>\n",
       "    <tr>\n",
       "      <td>0</td>\n",
       "      <td>0.322141</td>\n",
       "      <td>0.349738</td>\n",
       "      <td>0.372834</td>\n",
       "      <td>0.629482</td>\n",
       "      <td>0.652849</td>\n",
       "      <td>0.679682</td>\n",
       "      <td>0.500315</td>\n",
       "      <td>theta_a</td>\n",
       "    </tr>\n",
       "    <tr>\n",
       "      <td>1</td>\n",
       "      <td>0.435233</td>\n",
       "      <td>0.462082</td>\n",
       "      <td>0.483743</td>\n",
       "      <td>0.707987</td>\n",
       "      <td>0.729180</td>\n",
       "      <td>0.748830</td>\n",
       "      <td>0.598071</td>\n",
       "      <td>theta_b</td>\n",
       "    </tr>\n",
       "    <tr>\n",
       "      <td>2</td>\n",
       "      <td>-0.143560</td>\n",
       "      <td>-0.109870</td>\n",
       "      <td>-0.074177</td>\n",
       "      <td>0.263968</td>\n",
       "      <td>0.298793</td>\n",
       "      <td>0.337774</td>\n",
       "      <td>0.097756</td>\n",
       "      <td>delta</td>\n",
       "    </tr>\n",
       "  </tbody>\n",
       "</table>\n",
       "</div>"
      ],
      "text/plain": [
       "       0.01     0.025      0.05      0.95     0.975      0.99      mean  \\\n",
       "0  0.322141  0.349738  0.372834  0.629482  0.652849  0.679682  0.500315   \n",
       "1  0.435233  0.462082  0.483743  0.707987  0.729180  0.748830  0.598071   \n",
       "2 -0.143560 -0.109870 -0.074177  0.263968  0.298793  0.337774  0.097756   \n",
       "\n",
       "  parameter  \n",
       "0   theta_a  \n",
       "1   theta_b  \n",
       "2     delta  "
      ]
     },
     "execution_count": 7,
     "metadata": {},
     "output_type": "execute_result"
    }
   ],
   "source": [
    "ExampleBayes.quantile_summary(quantiles=[0.01, 0.025, 0.05, 0.95, 0.975, 0.99])"
   ]
  },
  {
   "cell_type": "markdown",
   "metadata": {},
   "source": [
    "- Name the parameters"
   ]
  },
  {
   "cell_type": "code",
   "execution_count": 8,
   "metadata": {},
   "outputs": [
    {
     "data": {
      "text/html": [
       "<div>\n",
       "<style scoped>\n",
       "    .dataframe tbody tr th:only-of-type {\n",
       "        vertical-align: middle;\n",
       "    }\n",
       "\n",
       "    .dataframe tbody tr th {\n",
       "        vertical-align: top;\n",
       "    }\n",
       "\n",
       "    .dataframe thead th {\n",
       "        text-align: right;\n",
       "    }\n",
       "</style>\n",
       "<table border=\"1\" class=\"dataframe\">\n",
       "  <thead>\n",
       "    <tr style=\"text-align: right;\">\n",
       "      <th></th>\n",
       "      <th>0.025</th>\n",
       "      <th>0.5</th>\n",
       "      <th>0.975</th>\n",
       "      <th>mean</th>\n",
       "      <th>parameter</th>\n",
       "    </tr>\n",
       "  </thead>\n",
       "  <tbody>\n",
       "    <tr>\n",
       "      <td>0</td>\n",
       "      <td>0.349738</td>\n",
       "      <td>0.500043</td>\n",
       "      <td>0.652849</td>\n",
       "      <td>0.500315</td>\n",
       "      <td>Mean of A</td>\n",
       "    </tr>\n",
       "    <tr>\n",
       "      <td>1</td>\n",
       "      <td>0.462082</td>\n",
       "      <td>0.599362</td>\n",
       "      <td>0.729180</td>\n",
       "      <td>0.598071</td>\n",
       "      <td>Mean of B</td>\n",
       "    </tr>\n",
       "    <tr>\n",
       "      <td>2</td>\n",
       "      <td>-0.109870</td>\n",
       "      <td>0.098542</td>\n",
       "      <td>0.298793</td>\n",
       "      <td>0.097756</td>\n",
       "      <td>Mean of B - mean of A</td>\n",
       "    </tr>\n",
       "  </tbody>\n",
       "</table>\n",
       "</div>"
      ],
      "text/plain": [
       "      0.025       0.5     0.975      mean              parameter\n",
       "0  0.349738  0.500043  0.652849  0.500315              Mean of A\n",
       "1  0.462082  0.599362  0.729180  0.598071              Mean of B\n",
       "2 -0.109870  0.098542  0.298793  0.097756  Mean of B - mean of A"
      ]
     },
     "execution_count": 8,
     "metadata": {},
     "output_type": "execute_result"
    }
   ],
   "source": [
    "ExampleBayes.quantile_summary(names = ['Mean of A', 'Mean of B', 'Mean of B - mean of A'])"
   ]
  },
  {
   "cell_type": "markdown",
   "metadata": {},
   "source": [
    "##### Method hdi_summary\n",
    "- Include the mean estimate or not"
   ]
  },
  {
   "cell_type": "code",
   "execution_count": 9,
   "metadata": {},
   "outputs": [
    {
     "data": {
      "text/html": [
       "<div>\n",
       "<style scoped>\n",
       "    .dataframe tbody tr th:only-of-type {\n",
       "        vertical-align: middle;\n",
       "    }\n",
       "\n",
       "    .dataframe tbody tr th {\n",
       "        vertical-align: top;\n",
       "    }\n",
       "\n",
       "    .dataframe thead th {\n",
       "        text-align: right;\n",
       "    }\n",
       "</style>\n",
       "<table border=\"1\" class=\"dataframe\">\n",
       "  <thead>\n",
       "    <tr style=\"text-align: right;\">\n",
       "      <th></th>\n",
       "      <th>0.025</th>\n",
       "      <th>MAP</th>\n",
       "      <th>0.975</th>\n",
       "      <th>parameter</th>\n",
       "    </tr>\n",
       "  </thead>\n",
       "  <tbody>\n",
       "    <tr>\n",
       "      <td>0</td>\n",
       "      <td>0.349151</td>\n",
       "      <td>0.486871</td>\n",
       "      <td>0.651560</td>\n",
       "      <td>theta_a</td>\n",
       "    </tr>\n",
       "    <tr>\n",
       "      <td>1</td>\n",
       "      <td>0.466174</td>\n",
       "      <td>0.604356</td>\n",
       "      <td>0.731411</td>\n",
       "      <td>theta_b</td>\n",
       "    </tr>\n",
       "    <tr>\n",
       "      <td>2</td>\n",
       "      <td>-0.103375</td>\n",
       "      <td>0.074042</td>\n",
       "      <td>0.304482</td>\n",
       "      <td>delta</td>\n",
       "    </tr>\n",
       "  </tbody>\n",
       "</table>\n",
       "</div>"
      ],
      "text/plain": [
       "      0.025       MAP     0.975 parameter\n",
       "0  0.349151  0.486871  0.651560   theta_a\n",
       "1  0.466174  0.604356  0.731411   theta_b\n",
       "2 -0.103375  0.074042  0.304482     delta"
      ]
     },
     "execution_count": 9,
     "metadata": {},
     "output_type": "execute_result"
    }
   ],
   "source": [
    "ExampleBayes.hdi_summary(mean=False)"
   ]
  },
  {
   "cell_type": "markdown",
   "metadata": {},
   "source": [
    "- Set a non-default HDI interval"
   ]
  },
  {
   "cell_type": "code",
   "execution_count": 10,
   "metadata": {},
   "outputs": [
    {
     "data": {
      "text/html": [
       "<div>\n",
       "<style scoped>\n",
       "    .dataframe tbody tr th:only-of-type {\n",
       "        vertical-align: middle;\n",
       "    }\n",
       "\n",
       "    .dataframe tbody tr th {\n",
       "        vertical-align: top;\n",
       "    }\n",
       "\n",
       "    .dataframe thead th {\n",
       "        text-align: right;\n",
       "    }\n",
       "</style>\n",
       "<table border=\"1\" class=\"dataframe\">\n",
       "  <thead>\n",
       "    <tr style=\"text-align: right;\">\n",
       "      <th></th>\n",
       "      <th>0.005</th>\n",
       "      <th>MAP</th>\n",
       "      <th>0.995</th>\n",
       "      <th>mean</th>\n",
       "      <th>parameter</th>\n",
       "    </tr>\n",
       "  </thead>\n",
       "  <tbody>\n",
       "    <tr>\n",
       "      <td>0</td>\n",
       "      <td>0.307800</td>\n",
       "      <td>0.486871</td>\n",
       "      <td>0.698603</td>\n",
       "      <td>0.500315</td>\n",
       "      <td>theta_a</td>\n",
       "    </tr>\n",
       "    <tr>\n",
       "      <td>1</td>\n",
       "      <td>0.415248</td>\n",
       "      <td>0.604356</td>\n",
       "      <td>0.759850</td>\n",
       "      <td>0.598071</td>\n",
       "      <td>theta_b</td>\n",
       "    </tr>\n",
       "    <tr>\n",
       "      <td>2</td>\n",
       "      <td>-0.169107</td>\n",
       "      <td>0.074042</td>\n",
       "      <td>0.356215</td>\n",
       "      <td>0.097756</td>\n",
       "      <td>delta</td>\n",
       "    </tr>\n",
       "  </tbody>\n",
       "</table>\n",
       "</div>"
      ],
      "text/plain": [
       "      0.005       MAP     0.995      mean parameter\n",
       "0  0.307800  0.486871  0.698603  0.500315   theta_a\n",
       "1  0.415248  0.604356  0.759850  0.598071   theta_b\n",
       "2 -0.169107  0.074042  0.356215  0.097756     delta"
      ]
     },
     "execution_count": 10,
     "metadata": {},
     "output_type": "execute_result"
    }
   ],
   "source": [
    "ExampleBayes.hdi_summary(interval=0.99)"
   ]
  },
  {
   "cell_type": "markdown",
   "metadata": {},
   "source": [
    "- Name the parameters"
   ]
  },
  {
   "cell_type": "code",
   "execution_count": 11,
   "metadata": {},
   "outputs": [
    {
     "data": {
      "text/html": [
       "<div>\n",
       "<style scoped>\n",
       "    .dataframe tbody tr th:only-of-type {\n",
       "        vertical-align: middle;\n",
       "    }\n",
       "\n",
       "    .dataframe tbody tr th {\n",
       "        vertical-align: top;\n",
       "    }\n",
       "\n",
       "    .dataframe thead th {\n",
       "        text-align: right;\n",
       "    }\n",
       "</style>\n",
       "<table border=\"1\" class=\"dataframe\">\n",
       "  <thead>\n",
       "    <tr style=\"text-align: right;\">\n",
       "      <th></th>\n",
       "      <th>0.025</th>\n",
       "      <th>MAP</th>\n",
       "      <th>0.975</th>\n",
       "      <th>mean</th>\n",
       "      <th>parameter</th>\n",
       "    </tr>\n",
       "  </thead>\n",
       "  <tbody>\n",
       "    <tr>\n",
       "      <td>0</td>\n",
       "      <td>0.349151</td>\n",
       "      <td>0.486871</td>\n",
       "      <td>0.651560</td>\n",
       "      <td>0.500315</td>\n",
       "      <td>Mean of A</td>\n",
       "    </tr>\n",
       "    <tr>\n",
       "      <td>1</td>\n",
       "      <td>0.466174</td>\n",
       "      <td>0.604356</td>\n",
       "      <td>0.731411</td>\n",
       "      <td>0.598071</td>\n",
       "      <td>Mean of B</td>\n",
       "    </tr>\n",
       "    <tr>\n",
       "      <td>2</td>\n",
       "      <td>-0.103375</td>\n",
       "      <td>0.074042</td>\n",
       "      <td>0.304482</td>\n",
       "      <td>0.097756</td>\n",
       "      <td>Mean of B - mean of A</td>\n",
       "    </tr>\n",
       "  </tbody>\n",
       "</table>\n",
       "</div>"
      ],
      "text/plain": [
       "      0.025       MAP     0.975      mean              parameter\n",
       "0  0.349151  0.486871  0.651560  0.500315              Mean of A\n",
       "1  0.466174  0.604356  0.731411  0.598071              Mean of B\n",
       "2 -0.103375  0.074042  0.304482  0.097756  Mean of B - mean of A"
      ]
     },
     "execution_count": 11,
     "metadata": {},
     "output_type": "execute_result"
    }
   ],
   "source": [
    "ExampleBayes.hdi_summary(names = ['Mean of A', 'Mean of B', 'Mean of B - mean of A'])"
   ]
  },
  {
   "cell_type": "markdown",
   "metadata": {},
   "source": [
    "##### Method infer_delta_probability\n",
    "- Change the direction of the hypothesis"
   ]
  },
  {
   "cell_type": "code",
   "execution_count": 12,
   "metadata": {},
   "outputs": [
    {
     "name": "stdout",
     "output_type": "stream",
     "text": [
      "The probability that theta_b is less than theta_a is 17.05%. Therefore theta_b is probably not less than theta_a.\n",
      "(0.1705, 'probably not')\n"
     ]
    }
   ],
   "source": [
    "print(ExampleBayes.infer_delta_probability(direction = 'less than'))"
   ]
  },
  {
   "cell_type": "markdown",
   "metadata": {},
   "source": [
    "- Add an additional constant to the hypothesis e.g. P(A > (B + constant))"
   ]
  },
  {
   "cell_type": "code",
   "execution_count": 13,
   "metadata": {},
   "outputs": [
    {
     "name": "stdout",
     "output_type": "stream",
     "text": [
      "The probability that theta_b is greater than theta_a by more than 0.05 is 82.95%. Therefore theta_b is probably greater than theta_a by more than 0.05.\n",
      "(0.8295, 'probably')\n"
     ]
    }
   ],
   "source": [
    "print(ExampleBayes.infer_delta_probability(value = 0.05))"
   ]
  },
  {
   "cell_type": "markdown",
   "metadata": {},
   "source": [
    "- Change the default print_inference"
   ]
  },
  {
   "cell_type": "code",
   "execution_count": 14,
   "metadata": {},
   "outputs": [
    {
     "name": "stdout",
     "output_type": "stream",
     "text": [
      "(0.8295, 'probably')\n"
     ]
    }
   ],
   "source": [
    "print(ExampleBayes.infer_delta_probability(print_inference = False))"
   ]
  },
  {
   "cell_type": "markdown",
   "metadata": {},
   "source": [
    "- Name the parameters"
   ]
  },
  {
   "cell_type": "code",
   "execution_count": 15,
   "metadata": {},
   "outputs": [
    {
     "name": "stdout",
     "output_type": "stream",
     "text": [
      "The probability that Mean of B is greater than Mean of A is 82.95%. Therefore Mean of B is probably greater than Mean of A.\n",
      "(0.8295, 'probably')\n"
     ]
    }
   ],
   "source": [
    "print(ExampleBayes.infer_delta_probability(names = ['Mean of A', 'Mean of B', 'Mean of B - mean of A']))"
   ]
  },
  {
   "cell_type": "markdown",
   "metadata": {},
   "source": [
    "##### Method infer_delta_bayes_factor\n",
    "- Change the direction of the hypothesis\n"
   ]
  },
  {
   "cell_type": "code",
   "execution_count": 16,
   "metadata": {},
   "outputs": [
    {
     "name": "stdout",
     "output_type": "stream",
     "text": [
      "The calculated bayes factor for the hypothesis that theta_b is less than theta_a versus the hypothesis that theta_a is less than theta_a is 0.20555. Therefore the strength of evidence for this hypothesis is negative.\n",
      "(0.20554550934297772, 'negative')\n"
     ]
    }
   ],
   "source": [
    "print(ExampleBayes.infer_delta_bayes_factor(direction = 'less than'))"
   ]
  },
  {
   "cell_type": "markdown",
   "metadata": {},
   "source": [
    "- Add an additional constant to the hypothesis e.g. P(A > (B + constant))\n"
   ]
  },
  {
   "cell_type": "code",
   "execution_count": 17,
   "metadata": {},
   "outputs": [
    {
     "name": "stdout",
     "output_type": "stream",
     "text": [
      "The calculated bayes factor for the hypothesis that theta_b is greater than theta_a by more than 0.05 versus the hypothesis that theta_a is greater than theta_a by more than 0.05 is 2.1407. Therefore the strength of evidence for this hypothesis is barely worth mentioning.\n",
      "(2.1407035175879394, 'barely worth mentioning')\n"
     ]
    }
   ],
   "source": [
    "print(ExampleBayes.infer_delta_bayes_factor(value = 0.05))"
   ]
  },
  {
   "cell_type": "markdown",
   "metadata": {},
   "source": [
    "- Change the default print_inference\n"
   ]
  },
  {
   "cell_type": "code",
   "execution_count": 18,
   "metadata": {},
   "outputs": [
    {
     "name": "stdout",
     "output_type": "stream",
     "text": [
      "(4.865102639296188, 'substantial')\n"
     ]
    }
   ],
   "source": [
    "print(ExampleBayes.infer_delta_bayes_factor(print_inference = False))"
   ]
  },
  {
   "cell_type": "markdown",
   "metadata": {},
   "source": [
    "- Name the parameters"
   ]
  },
  {
   "cell_type": "code",
   "execution_count": 19,
   "metadata": {},
   "outputs": [
    {
     "name": "stdout",
     "output_type": "stream",
     "text": [
      "The calculated bayes factor for the hypothesis that Mean of B is greater than Mean of A versus the hypothesis that Mean of A is greater than Mean of A is 4.8651. Therefore the strength of evidence for this hypothesis is substantial.\n",
      "(4.865102639296188, 'substantial')\n"
     ]
    }
   ],
   "source": [
    "print(ExampleBayes.infer_delta_bayes_factor(names = ['Mean of A', 'Mean of B', 'Mean of B - mean of A']))"
   ]
  },
  {
   "cell_type": "markdown",
   "metadata": {},
   "source": [
    "##### Method posterior_plot\n",
    "\n",
    "Note plots aren't displayed in order to minimise file size.\n",
    "\n",
    "- Define the estimation method\n"
   ]
  },
  {
   "cell_type": "code",
   "execution_count": 20,
   "metadata": {},
   "outputs": [],
   "source": [
    "p = ExampleBayes.posterior_plot(method = 'quantile')"
   ]
  },
  {
   "cell_type": "markdown",
   "metadata": {},
   "source": [
    "- Define the vertical line on the delta plot\n"
   ]
  },
  {
   "cell_type": "code",
   "execution_count": 21,
   "metadata": {},
   "outputs": [],
   "source": [
    "p = ExampleBayes.posterior_plot(delta_line = 0.05)"
   ]
  },
  {
   "cell_type": "markdown",
   "metadata": {},
   "source": [
    "- Use a non-default colour on the plots\n"
   ]
  },
  {
   "cell_type": "code",
   "execution_count": 22,
   "metadata": {},
   "outputs": [],
   "source": [
    "p = ExampleBayes.posterior_plot(col = 'green')"
   ]
  },
  {
   "cell_type": "markdown",
   "metadata": {},
   "source": [
    "- Use non-default intervals for the plot.  If using `method` = `'hdi'`:\n"
   ]
  },
  {
   "cell_type": "code",
   "execution_count": 23,
   "metadata": {},
   "outputs": [],
   "source": [
    "p = ExampleBayes.posterior_plot(bounds = 0.99)"
   ]
  },
  {
   "cell_type": "markdown",
   "metadata": {},
   "source": [
    "- Use non-default intervals for the plot.  If using `method` = `'quantile'`:"
   ]
  },
  {
   "cell_type": "code",
   "execution_count": null,
   "metadata": {},
   "outputs": [],
   "source": [
    "p = ExampleBayes.posterior_plot(method = 'quantile', bounds = [0.005, 0.995])"
   ]
  },
  {
   "cell_type": "markdown",
   "metadata": {},
   "source": [
    "- Name the parameters"
   ]
  },
  {
   "cell_type": "code",
   "execution_count": null,
   "metadata": {},
   "outputs": [],
   "source": [
    "p = ExampleBayes.posterior_plot(names = ['Mean of A', 'Mean of B', 'Mean of B - mean of A'])"
   ]
  },
  {
   "cell_type": "markdown",
   "metadata": {},
   "source": [
    "- Explicitly define the fig size"
   ]
  },
  {
   "cell_type": "code",
   "execution_count": null,
   "metadata": {},
   "outputs": [],
   "source": [
    "p = ExampleBayes.posterior_plot(fig_size = (750, 300))"
   ]
  }
 ],
 "metadata": {
  "kernelspec": {
   "display_name": "Python 3",
   "language": "python",
   "name": "python3"
  },
  "language_info": {
   "codemirror_mode": {
    "name": "ipython",
    "version": 3
   },
   "file_extension": ".py",
   "mimetype": "text/x-python",
   "name": "python",
   "nbconvert_exporter": "python",
   "pygments_lexer": "ipython3",
   "version": "3.7.4"
  }
 },
 "nbformat": 4,
 "nbformat_minor": 2
}
