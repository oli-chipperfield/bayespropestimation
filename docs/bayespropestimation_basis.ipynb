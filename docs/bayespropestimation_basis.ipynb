{
 "cells": [
  {
   "cell_type": "markdown",
   "metadata": {},
   "source": [
    "## bayespropestimation basis\n",
    "\n",
    "The bayespropestimation module uses simple Bayesian probability to derive the posterior distributions of two samples, the parameters of these samples can then be approximated by simulation, as can the difference in the parameters.\n",
    "\n",
    "#### Sections\n",
    "\n",
    "- Deriving posterior distribution\n",
    "- Comparing samples\n",
    "- Choice of priors\n",
    "\n",
    "#### Deriving the posterior distribution"
   ]
  },
  {
   "cell_type": "markdown",
   "metadata": {},
   "source": [
    "Let $Y_k$ be the count of successes from $n_k$ trials from population $k$.  $Y_k$ can be defined as:\n",
    "\n",
    "$$Y_k \\sim \\textrm{Bi}(n_k, \\theta_k)$$\n",
    "\n",
    "Where $\\theta_k$ is the parameter we wish to estimate.  $\\theta_k$ can be defined as:\n",
    "\n",
    "$$\\theta_k \\sim \\textrm{Beta}(\\alpha, \\beta)$$\n",
    "\n",
    "Where $\\alpha$ and $\\beta$ denote fixed parameters of the beta distribution.  Using Bayes theorem $\\Big( p(B|A) = \\frac{p(A|B)p(B)}{p(A)}\\Big)$ it can be seen that:\n",
    "\n",
    "\\begin{equation}\n",
    "\\begin{aligned}\n",
    "p(\\theta_k | Y_k) &= \\frac{L(Y_k | \\theta_k)p(\\theta_k)}{p(Y_k)}\n",
    "\\\\\n",
    "p(\\theta_k | Y_k) &\\propto L(Y_k | \\theta_k)p(\\theta_k)\n",
    "\\\\\n",
    "&\\propto \\Big( {n_k \\choose y_k} \\theta_k^{y_k} (1 - \\theta_k)^{(n_k - y_k)} \\Big) \\Big(\\frac{\\theta^{(\\alpha -1)}(1 - \\theta_k)^{(\\beta - 1)}}{\\mathbb{B}(\\alpha, \\beta)}\\Big)\n",
    "\\\\\n",
    "&\\propto \\theta^{(y_k + \\alpha -1)}_k (1 - \\theta_k)^{(n_k - y_k + \\beta - 1)}\n",
    "\\\\\n",
    "&\\propto \\frac{\\theta^{(y_k + \\alpha -1)}(1 - \\theta_k)^{(n_k - y_k + \\beta  - 1)}}{\\mathbb{B}(y_k + \\alpha, n_k - y_k + \\beta)}\n",
    "\\end{aligned}\n",
    "\\end{equation}\n",
    "\n",
    "Which is identical to the beta distribution with parameters $y_k + \\alpha$ and $n_k - y_k + \\beta$.  Therefore:\n",
    "\n",
    "$$ \\theta_k | Y_k \\sim \\textrm{Beta}(y_k + \\alpha, n_k - y_k + \\beta)$$\n"
   ]
  },
  {
   "cell_type": "markdown",
   "metadata": {},
   "source": [
    "#### Comparing samples\n",
    "\n",
    "For two samples from populations $A$ and $B$, the posterior distributions can be defined as:\n",
    "\n",
    "$$ \\theta_A | Y_A \\sim \\textrm{Beta}(y_A + \\alpha, n_A - y_A + \\beta)$$\n",
    "\n",
    "$$ \\theta_B | Y_B \\sim \\textrm{Beta}(y_B + \\alpha, n_B - y_B + \\beta)$$\n",
    "\n",
    "Credible intervals, MAP and expectations of $theta_A | Y_A$ and $theta_B | Y_B$ can be derived directly from the posterior density, or they can be approximated by random draws from the posterior density.\n",
    "\n",
    "Let $\\Delta_{AB} = \\theta_B$ - $\\theta_A$, i.e. the difference between the parameter estimates for sample $A$ and sample $B$.  $\\Delta_{AB}$ can be defined as:\n",
    "\n",
    "$$\\theta_B - \\theta_A = \\Delta_{AB}  \\sim \\textrm{Beta}(y_A + \\alpha, n_A - y_A + \\beta) - \\textrm{Beta}(y_B + \\alpha, n_B - y_B + \\beta)$$\n",
    "\n",
    "This distribution is improper.  However $\\Delta_{AB}$ can be easily estimated by taking random draws from $\\theta_B | Y_B$ and $\\theta_A | Y_A$ and computing the difference."
   ]
  },
  {
   "cell_type": "markdown",
   "metadata": {},
   "source": [
    "#### Choice of priors\n",
    "\n",
    "The model assumes that $\\theta_B | Y_B$ and $\\theta_A | Y_A$ have the same prior distribution.  Unless specified, an uninformative Jeffrey's prior is used, i.e\n",
    "\n",
    "$$\\theta_k \\sim \\textrm{Beta}(0.5, 0.5)$$\n",
    "\n",
    "If an informative prior is available the user can define their own Beta prior."
   ]
  }
 ],
 "metadata": {
  "kernelspec": {
   "display_name": "Python 3",
   "language": "python",
   "name": "python3"
  },
  "language_info": {
   "codemirror_mode": {
    "name": "ipython",
    "version": 3
   },
   "file_extension": ".py",
   "mimetype": "text/x-python",
   "name": "python",
   "nbconvert_exporter": "python",
   "pygments_lexer": "ipython3",
   "version": "3.7.4"
  }
 },
 "nbformat": 4,
 "nbformat_minor": 2
}
