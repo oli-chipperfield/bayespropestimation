{
 "cells": [
  {
   "cell_type": "markdown",
   "metadata": {},
   "source": [
    "## bayespropestimation basis\n",
    "\n",
    "The bayespropestimation module uses simple Bayesian probability theory to derive the posterior distributions of two samples, the parameters of these samples can then be approximated by simulation, as can the difference in the parameters.\n",
    "\n",
    "#### Sections\n",
    "\n",
    "- Deriving posterior distribution\n",
    "- Comparing samples\n",
    "- Choice of priors\n",
    "- Estimating the Bayes Factor\n",
    "\n",
    "#### Deriving the posterior distribution"
   ]
  },
  {
   "cell_type": "markdown",
   "metadata": {},
   "source": [
    "Let $Y_k$ be the count of successes from $n_k$ trials from population $k$.  $Y_k$ can be defined as:\n",
    "\n",
    "$$Y_k \\sim \\textrm{Bi}(n_k, \\theta_k)$$\n",
    "\n",
    "Where $\\theta_k$ is the parameter we wish to estimate.  $\\theta_k$ can be defined as:\n",
    "\n",
    "$$\\theta_k \\sim \\textrm{Beta}(\\alpha, \\beta)$$\n",
    "\n",
    "Where $\\alpha$ and $\\beta$ denote fixed parameters of the beta distribution.  Using Bayes theorem $\\Big( p(B|A) = \\frac{p(A|B)p(B)}{p(A)}\\Big)$ it can be seen that:\n",
    "\n",
    "\\begin{equation}\n",
    "\\begin{aligned}\n",
    "p(\\theta_k | Y_k) &= \\frac{L(Y_k | \\theta_k)p(\\theta_k)}{p(Y_k)}\n",
    "\\\\\n",
    "p(\\theta_k | Y_k) &\\propto L(Y_k | \\theta_k)p(\\theta_k)\n",
    "\\\\\n",
    "&\\propto \\Big( {n_k \\choose y_k} \\theta_k^{y_k} (1 - \\theta_k)^{(n_k - y_k)} \\Big) \\Big(\\frac{\\theta^{(\\alpha -1)}(1 - \\theta_k)^{(\\beta - 1)}}{\\mathbb{B}(\\alpha, \\beta)}\\Big)\n",
    "\\\\\n",
    "&\\propto \\theta^{(y_k + \\alpha -1)}_k (1 - \\theta_k)^{(n_k - y_k + \\beta - 1)}\n",
    "\\\\\n",
    "&\\propto \\frac{\\theta^{(y_k + \\alpha -1)}(1 - \\theta_k)^{(n_k - y_k + \\beta  - 1)}}{\\mathbb{B}(y_k + \\alpha, n_k - y_k + \\beta)}\n",
    "\\end{aligned}\n",
    "\\end{equation}\n",
    "\n",
    "Which is identical to the beta distribution with parameters $y_k + \\alpha$ and $n_k - y_k + \\beta$.  Therefore:\n",
    "\n",
    "$$ \\theta_k | Y_k \\sim \\textrm{Beta}(y_k + \\alpha, n_k - y_k + \\beta)$$\n"
   ]
  },
  {
   "cell_type": "markdown",
   "metadata": {},
   "source": [
    "#### Comparing samples\n",
    "\n",
    "For two samples from populations $A$ and $B$, the posterior distributions can be defined as:\n",
    "\n",
    "$$ \\theta_A | Y_A \\sim \\textrm{Beta}(y_A + \\alpha, n_A - y_A + \\beta)$$\n",
    "\n",
    "$$ \\theta_B | Y_B \\sim \\textrm{Beta}(y_B + \\alpha, n_B - y_B + \\beta)$$\n",
    "\n",
    "Credible intervals, MAP and expectations of $\\theta_A | Y_A$ and $\\theta_B | Y_B$ can be derived directly from the posterior density, or they can be approximated by random draws from the posterior density.\n",
    "\n",
    "Let $\\Delta_{AB} = \\theta_B$ - $\\theta_A$, i.e. the difference between the parameter estimates for sample $A$ and sample $B$.  $\\Delta_{AB}$ can be defined as:\n",
    "\n",
    "$$\\theta_B - \\theta_A = \\Delta_{AB}  \\propto \\textrm{Beta}(y_A + \\alpha, n_A - y_A + \\beta) - \\textrm{Beta}(y_B + \\alpha, n_B - y_B + \\beta)$$\n",
    "\n",
    "This distribution is proper if a normalising constant is added.  However $\\Delta_{AB}$ can be easily estimated by taking random draws from $\\theta_B | Y_B$ and $\\theta_A | Y_A$ and computing the difference."
   ]
  },
  {
   "cell_type": "markdown",
   "metadata": {},
   "source": [
    "#### Choice of priors\n",
    "\n",
    "The model assumes that $\\theta_B | Y_B$ and $\\theta_A | Y_A$ have the same prior distribution.  Unless specified, an uninformative Jeffrey's prior is used, i.e\n",
    "\n",
    "$$\\theta_k \\sim \\textrm{Beta}(0.5, 0.5)$$\n",
    "\n",
    "If an informative prior is available the user can define their own Beta prior."
   ]
  },
  {
   "cell_type": "markdown",
   "metadata": {},
   "source": [
    "#### Estimating the Bayes Factor\n",
    "\n",
    "The Bayes Factor for comparing directional hypotheses, e.g. $\\theta_B > \\theta_A$ vs $\\theta_B < \\theta_A$, is easy to estimate from the draws from the posterior distribution of $\\Delta_{AB}$.\n",
    "\n",
    "The bayes factor ($K$) can be defined as $\\frac{P(D | H_1)}{P(D | H_2)}$ where $D$ denotes the data and $H_1$ and $H_2$ denote the hypotheses $\\theta_B > \\theta_A$ and $\\theta_B < \\theta_A$ respectively.  $K$ can therefore be defined as:\n",
    "\n",
    "$$ K = \\frac{P(y_A, y_B | \\theta_B > \\theta_A)}{P(y_A, y_B | \\theta_B < \\theta_A)} $$\n",
    "\n",
    "Given that the marginal likelihood of $P(y_k | \\theta_k, \\alpha, \\beta)$ is defined as $\\int p(y_k | \\theta_k)p(\\theta_k) \\, d\\theta_k$. The $P(y_A, y_B | \\theta_B > \\theta_A)$ is:\n",
    "\n",
    "$$ P(y_A, y_B | \\theta_B > \\theta_A) = \\int_{\\theta_B > \\theta_A}  L(y_A | \\theta_A) p(\\theta_A) L(y_B | \\theta_B) p(\\theta_B) \\, d\\theta_A d\\theta_B$$\n",
    "\n",
    "The contents of the integral are proportional to $\\Delta_{AB}$, therefore:\n",
    "\n",
    "$$ P(y_A, y_B | \\theta_B > \\theta_A) \\propto P(\\theta_B - \\theta_A > 0 | y_A, y_B)$$\n",
    "\n",
    "Where $P(\\theta_A, \\theta_B | y_A, y_B) \\propto \\Delta_{AB}$.  Consequently: \n",
    "\n",
    "$$ K = \\frac{P(y_A, y_B | \\theta_B > \\theta_A)}{P(y_A, y_B | \\theta_B < \\theta_A)} = \\frac{P(\\theta_B - \\theta_A > 0 | y_A, y_B)}{ P(\\theta_B - \\theta_A < 0 | y_A, y_B)}$$\n",
    "\n",
    "These two numerator and denominator can be easily approximated using can therefore be approximated using random draws from $\\Delta_{AB}$.  Interpretation Bayes factors follows the [Jeffreys scale](https://en.wikipedia.org/w/index.php?title=Bayes_factor#Interpretation) of interpretation.\n"
   ]
  }
 ],
 "metadata": {
  "kernelspec": {
   "display_name": "Python 3",
   "language": "python",
   "name": "python3"
  },
  "language_info": {
   "codemirror_mode": {
    "name": "ipython",
    "version": 3
   },
   "file_extension": ".py",
   "mimetype": "text/x-python",
   "name": "python",
   "nbconvert_exporter": "python",
   "pygments_lexer": "ipython3",
   "version": "3.7.4"
  }
 },
 "nbformat": 4,
 "nbformat_minor": 2
}
